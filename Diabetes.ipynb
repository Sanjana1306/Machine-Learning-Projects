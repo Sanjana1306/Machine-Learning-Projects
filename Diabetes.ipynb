{
  "nbformat": 4,
  "nbformat_minor": 0,
  "metadata": {
    "colab": {
      "name": "Diabetes.ipynb",
      "provenance": [],
      "collapsed_sections": [],
      "authorship_tag": "ABX9TyMrrAztR569wnrn1hKPeTfd",
      "include_colab_link": true
    },
    "kernelspec": {
      "name": "python3",
      "display_name": "Python 3"
    },
    "language_info": {
      "name": "python"
    }
  },
  "cells": [
    {
      "cell_type": "markdown",
      "metadata": {
        "id": "view-in-github",
        "colab_type": "text"
      },
      "source": [
        "<a href=\"https://colab.research.google.com/github/Sanjana1306/Machine-Learning-Projects/blob/main/Diabetes.ipynb\" target=\"_parent\"><img src=\"https://colab.research.google.com/assets/colab-badge.svg\" alt=\"Open In Colab\"/></a>"
      ]
    },
    {
      "cell_type": "code",
      "metadata": {
        "id": "z1jbCrSUfzym"
      },
      "source": [
        "import numpy as np\n",
        "import pandas as pd\n",
        "from sklearn import datasets,linear_model\n",
        "from sklearn.metrics import mean_squared_error\n",
        "import matplotlib.pyplot as plt\n"
      ],
      "execution_count": null,
      "outputs": []
    },
    {
      "cell_type": "code",
      "metadata": {
        "id": "gaC5oUY89cKD"
      },
      "source": [
        "diabetes=datasets.load_diabetes()"
      ],
      "execution_count": null,
      "outputs": []
    },
    {
      "cell_type": "code",
      "metadata": {
        "id": "M0N4r7Q09n17"
      },
      "source": [
        "diabetes_X=diabetes.data[:np.newaxis,2]"
      ],
      "execution_count": null,
      "outputs": []
    },
    {
      "cell_type": "code",
      "metadata": {
        "id": "NuyX0A0RBfoO"
      },
      "source": [
        "diabetes_x_train=diabetes_X[:-30]\n",
        "diabetes_X_test=diabetes_X[-30:].reshape(-1,1)"
      ],
      "execution_count": null,
      "outputs": []
    },
    {
      "cell_type": "code",
      "metadata": {
        "id": "AfKlx1LwCkr4"
      },
      "source": [
        "diabetes_y_train=diabetes.target[:-30]\n",
        "diabetes_Y_test=diabetes.target[-30:].reshape(-1,1)\n"
      ],
      "execution_count": null,
      "outputs": []
    },
    {
      "cell_type": "code",
      "metadata": {
        "id": "ZTTqBfOxIHt5"
      },
      "source": [
        "#diabetes_x_train.reshape(-1,1)\n",
        "#diabetes_y_train.reshape(-1,1)\n"
      ],
      "execution_count": null,
      "outputs": []
    },
    {
      "cell_type": "code",
      "metadata": {
        "id": "xroNDzk0DoyA"
      },
      "source": [
        "model=linear_model.LinearRegression()"
      ],
      "execution_count": null,
      "outputs": []
    },
    {
      "cell_type": "code",
      "metadata": {
        "colab": {
          "base_uri": "https://localhost:8080/"
        },
        "id": "yitbaY0JDtUo",
        "outputId": "8b8496d7-f0d1-45c8-a63f-4c5064d59c99"
      },
      "source": [
        "model.fit(diabetes_x_train,diabetes_y_train)"
      ],
      "execution_count": null,
      "outputs": [
        {
          "output_type": "execute_result",
          "data": {
            "text/plain": [
              "LinearRegression(copy_X=True, fit_intercept=True, n_jobs=None, normalize=False)"
            ]
          },
          "metadata": {
            "tags": []
          },
          "execution_count": 40
        }
      ]
    },
    {
      "cell_type": "code",
      "metadata": {
        "id": "GUSu0EoSELRF"
      },
      "source": [
        "diabetes_Y_predict=model.predict(diabetes_X_test)"
      ],
      "execution_count": null,
      "outputs": []
    },
    {
      "cell_type": "code",
      "metadata": {
        "id": "kPlRCV4KEt10"
      },
      "source": [
        "print(\"Mean Sqaured value is: \",mean_squared_error(diabetes_y_test,diabetes_Y_predict))"
      ],
      "execution_count": null,
      "outputs": []
    },
    {
      "cell_type": "code",
      "metadata": {
        "id": "9WWOi7S4Kd3H"
      },
      "source": [
        "print(\"Weights:\",model.coef_)\n",
        "print(\"Intercept:\",model.intercept_)"
      ],
      "execution_count": null,
      "outputs": []
    },
    {
      "cell_type": "code",
      "metadata": {
        "colab": {
          "base_uri": "https://localhost:8080/",
          "height": 265
        },
        "id": "Mgb4iSvUK0Oz",
        "outputId": "17bf766e-9c06-41a1-ba39-3e4f792fff4c"
      },
      "source": [
        "plt.scatter(diabetes_x_train,diabetes_y_train)\n",
        "#plt.plot(diabetes_X_test,diabetes_Y_predict)\n",
        "#plt.xlabel=\"X\"\n",
        "#plt.ylabel=\"Y\"\n",
        "plt.show()"
      ],
      "execution_count": null,
      "outputs": [
        {
          "output_type": "display_data",
          "data": {
            "image/png": "[encoded data removed]",
            "text/plain": [
              "<Figure size 432x288 with 1 Axes>"
            ]
          },
          "metadata": {
            "tags": [],
            "needs_background": "light"
          }
        }
      ]
    }
  ]
}