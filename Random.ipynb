{
  "nbformat": 4,
  "nbformat_minor": 0,
  "metadata": {
    "colab": {
      "name": "Random",
      "provenance": [],
      "authorship_tag": "ABX9TyNjQYfooDCu8ZsRtHM8J3+o",
      "include_colab_link": true
    },
    "kernelspec": {
      "name": "python3",
      "display_name": "Python 3"
    },
    "language_info": {
      "name": "python"
    }
  },
  "cells": [
    {
      "cell_type": "markdown",
      "metadata": {
        "id": "view-in-github",
        "colab_type": "text"
      },
      "source": [
        "<a href=\"https://colab.research.google.com/github/Sanjana1306/Machine-Learning-Projects/blob/main/Random.ipynb\" target=\"_parent\"><img src=\"https://colab.research.google.com/assets/colab-badge.svg\" alt=\"Open In Colab\"/></a>"
      ]
    },
    {
      "cell_type": "code",
      "metadata": {
        "colab": {
          "base_uri": "https://localhost:8080/",
          "height": 269
        },
        "id": "9Tig1CdSw-4J",
        "outputId": "2c639d1b-095a-4692-93e6-e5ffa5a0fcc4"
      },
      "source": [
        "import numpy as np\n",
        "import pandas as pd\n",
        "import matplotlib.pyplot as plt\n",
        "import scipy as sp\n",
        "from scipy import stats\n",
        "\n",
        "'''x_data=np.arange(-6,6,0.001)\n",
        "y_data=stats.norm.pdf(x_data,0,1)\n",
        "plt.plot(x_data,y_data)\n",
        "plt.show()'''\n",
        "np.random.seed(1)\n",
        "data=10*np.random.randn(1000)+100\n",
        "plt.hist(data)\n",
        "plt.show()"
      ],
      "execution_count": null,
      "outputs": [
        {
          "output_type": "display_data",
          "data": {
            "image/png": "[encoded data removed]",
            "text/plain": [
              "<Figure size 432x288 with 1 Axes>"
            ]
          },
          "metadata": {
            "tags": [],
            "needs_background": "light"
          }
        }
      ]
    },
    {
      "cell_type": "code",
      "metadata": {
        "colab": {
          "base_uri": "https://localhost:8080/"
        },
        "id": "IjzaYzufpLoN",
        "outputId": "2da3690d-6ae6-4fc7-fc6e-88a9dc02fbb5"
      },
      "source": [
        "# generate related variables\n",
        "from numpy import mean\n",
        "from numpy import std\n",
        "from numpy.random import randn\n",
        "from numpy.random import seed\n",
        "from matplotlib import pyplot\n",
        "from numpy import cov\n",
        "from scipy.stats import pearsonr\n",
        "# seed random number generator\n",
        "seed(2)\n",
        "# prepare data\n",
        "data1 = 20 * randn(1000) + 100\n",
        "data2 = data1 + (10 * randn(1000) + 50)\n",
        "# summarize\n",
        "print('data1: mean=%.3f stdv=%.3f' % (mean(data1), std(data1)))\n",
        "print('data2: mean=%.3f stdv=%.3f' % (mean(data2), std(data2)))\n",
        "# plot\n",
        "#pyplot.scatter(data1, data2)\n",
        "#pyplot.show()\n",
        "'''covariance = cov(data1, data2)\n",
        "print(covariance)'''\n",
        "corr, _ = pearsonr(data1, data2)\n",
        "print('Pearsons correlation: %.3f' % corr)"
      ],
      "execution_count": null,
      "outputs": [
        {
          "output_type": "stream",
          "text": [
            "data1: mean=99.043 stdv=20.087\n",
            "data2: mean=148.936 stdv=22.219\n",
            "Pearsons correlation: 0.899\n"
          ],
          "name": "stdout"
        }
      ]
    },
    {
      "cell_type": "code",
      "metadata": {
        "id": "geK4fdICw76a"
      },
      "source": [
        ""
      ],
      "execution_count": null,
      "outputs": []
    }
  ]
}