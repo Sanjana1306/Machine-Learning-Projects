{
  "nbformat": 4,
  "nbformat_minor": 0,
  "metadata": {
    "colab": {
      "name": "video_detect.ipynb",
      "provenance": [],
      "collapsed_sections": [],
      "authorship_tag": "ABX9TyMd++JKbSZWA+LaJvvGF0ad",
      "include_colab_link": true
    },
    "kernelspec": {
      "name": "python3",
      "display_name": "Python 3"
    },
    "language_info": {
      "name": "python"
    }
  },
  "cells": [
    {
      "cell_type": "markdown",
      "metadata": {
        "id": "view-in-github",
        "colab_type": "text"
      },
      "source": [
        "<a href=\"https://colab.research.google.com/github/Sanjana1306/Machine-Learning-Projects/blob/main/video_detect.ipynb\" target=\"_parent\"><img src=\"https://colab.research.google.com/assets/colab-badge.svg\" alt=\"Open In Colab\"/></a>"
      ]
    },
    {
      "cell_type": "code",
      "execution_count": null,
      "metadata": {
        "id": "60JaxCMAiVsw"
      },
      "outputs": [],
      "source": [
        "import cv2\n",
        "import numpy as np\n",
        "from google.colab.patches import cv2_imshow\n",
        "from matplotlib import pyplot as plt"
      ]
    },
    {
      "cell_type": "code",
      "source": [
        "#Get user supplies\n",
        "eye_cascade=cv2.CascadeClassifier('haarcascade_eye.xml')\n",
        "faceCascade=cv2.CascadeClassifier(\"haarcascade_frontalface_default.xml\")"
      ],
      "metadata": {
        "id": "A4gp49TQicx-"
      },
      "execution_count": null,
      "outputs": []
    },
    {
      "cell_type": "code",
      "source": [
        "cap=cv2.VideoCapture(1)"
      ],
      "metadata": {
        "id": "haDG-1GvkbCq"
      },
      "execution_count": null,
      "outputs": []
    },
    {
      "cell_type": "code",
      "source": [
        "while True:\n",
        "  ret,img=cap.read()\n",
        "  plt.imshow(cv2.cvtColor(img, cv2.COLOR_BGR2RGB))\n",
        "  #gray = cv2.cvtColor(img, cv2.COLOR_BGR2GRAY)\n",
        "  faces=faceCascade.detectMultiScale(gray,1.1,5)\n",
        "  '''for(x,y,w,h) in faces:\n",
        "    cv2.rectangle(img, (x,y),(x+w , y+h) ,(255,0,0),2)\n",
        "    r_gray=gray[y:y+h,x:x+w]\n",
        "    r_color=img[y:y+h,x:x+w]\n",
        "    eyes=eye_cascade.detectMultiScale(r_gray)\n",
        "    for(ex,ey,ew,eh) in eyes:\n",
        "      cv2.rectangle(r_color,(ex,ey),(ex+ew , ey+eh),(255,0,0),2)'''"
      ],
      "metadata": {
        "id": "TFhwMZ4Wm2Io"
      },
      "execution_count": null,
      "outputs": []
    },
    {
      "cell_type": "code",
      "source": [
        "# Display an image in a window\n",
        "cv2.imshow('Video',img)\n",
        "  \n",
        "    # Wait for Esc key to stop\n",
        "k = cv2.waitKey(30) & 0xff\n",
        "if k == 27:\n",
        "  break\n",
        "  \n",
        "# Close the window\n",
        "cap.release()\n",
        "  \n",
        "# De-allocate any associated memory usage\n",
        "cv2.destroyAllWindows() "
      ],
      "metadata": {
        "id": "6DqT0pjDgH-U"
      },
      "execution_count": null,
      "outputs": []
    }
  ]
}