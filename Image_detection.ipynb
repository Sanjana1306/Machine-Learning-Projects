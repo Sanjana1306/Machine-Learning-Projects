{
  "nbformat": 4,
  "nbformat_minor": 0,
  "metadata": {
    "colab": {
      "name": "Image_detection.ipynb",
      "provenance": [],
      "collapsed_sections": [],
      "authorship_tag": "ABX9TyMnzkps3m7x+G3IruKXDUur",
      "include_colab_link": true
    },
    "kernelspec": {
      "name": "python3",
      "display_name": "Python 3"
    },
    "language_info": {
      "name": "python"
    }
  },
  "cells": [
    {
      "cell_type": "markdown",
      "metadata": {
        "id": "view-in-github",
        "colab_type": "text"
      },
      "source": [
        "<a href=\"https://colab.research.google.com/github/Sanjana1306/Machine-Learning-Projects/blob/main/Image_detection.ipynb\" target=\"_parent\"><img src=\"https://colab.research.google.com/assets/colab-badge.svg\" alt=\"Open In Colab\"/></a>"
      ]
    },
    {
      "cell_type": "code",
      "execution_count": null,
      "metadata": {
        "id": "LJU61iejTXHi"
      },
      "outputs": [],
      "source": [
        "import cv2\n",
        "from matplotlib import pyplot as plt"
      ]
    },
    {
      "cell_type": "code",
      "source": [
        "\n",
        "cascPath='/content/sample_data/haarcascade_frontalface_default.xml'"
      ],
      "metadata": {
        "id": "zYD4eG5rUsV_"
      },
      "execution_count": null,
      "outputs": []
    },
    {
      "cell_type": "code",
      "source": [
        "faceCascade=cv2.CascadeClassifier(cascPath)"
      ],
      "metadata": {
        "id": "qWlBF4UYWNeE"
      },
      "execution_count": null,
      "outputs": []
    },
    {
      "cell_type": "code",
      "source": [
        "img=cv2.imread('/content/sample_data/test_img.jfif')"
      ],
      "metadata": {
        "id": "OwV0Gb0yXwxa"
      },
      "execution_count": null,
      "outputs": []
    },
    {
      "cell_type": "code",
      "source": [
        "gray=cv2.cvtColor(img,cv2.COLOR_BGR2GRAY)\n",
        "plt.imshow(gray)"
      ],
      "metadata": {
        "id": "42RJPoRFW9kB"
      },
      "execution_count": null,
      "outputs": []
    },
    {
      "cell_type": "code",
      "source": [
        "faces=faceCascade.detectMultiScale(gray,1.1,6)"
      ],
      "metadata": {
        "id": "kI-AGhdVX6Lm"
      },
      "execution_count": null,
      "outputs": []
    },
    {
      "cell_type": "code",
      "source": [
        "for(x,y,w,h) in faces:\n",
        "  cv2.rectangle(img, (x,y), (x+w , y+h),(255,0,0), 2)"
      ],
      "metadata": {
        "id": "kBFEdV33YS-9"
      },
      "execution_count": null,
      "outputs": []
    },
    {
      "cell_type": "code",
      "source": [
        "plt.imshow(img)\n",
        "#cv2.waitKey()"
      ],
      "metadata": {
        "id": "-XD62s-8YhQA"
      },
      "execution_count": null,
      "outputs": []
    },
    {
      "cell_type": "code",
      "source": [
        "img=cv2.imread('/content/sample_data/test1_img.jfif')"
      ],
      "metadata": {
        "id": "gjHKMN32o2B7"
      },
      "execution_count": null,
      "outputs": []
    },
    {
      "cell_type": "code",
      "source": [
        "gray=cv2.cvtColor(img,cv2.COLOR_BGR2GRAY)\n",
        "plt.imshow(gray)"
      ],
      "metadata": {
        "id": "ksbBnnROpBKy"
      },
      "execution_count": null,
      "outputs": []
    },
    {
      "cell_type": "code",
      "source": [
        "faces=faceCascade.detectMultiScale(gray,1.1,4)"
      ],
      "metadata": {
        "id": "sR61w60EpLTI"
      },
      "execution_count": null,
      "outputs": []
    },
    {
      "cell_type": "code",
      "source": [
        "for(x,y,w,h) in faces:\n",
        "  cv2.rectangle(img, (x,y), (x+w , y+h),(0,0,255), 3)"
      ],
      "metadata": {
        "id": "EPy_ay_fpO9j"
      },
      "execution_count": null,
      "outputs": []
    },
    {
      "cell_type": "code",
      "source": [
        "plt.imshow(img)\n",
        "#cv2.waitKey()"
      ],
      "metadata": {
        "id": "C4nQUjgwpVnS"
      },
      "execution_count": null,
      "outputs": []
    }
  ]
}